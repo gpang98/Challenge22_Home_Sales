{
 "cells": [
  {
   "cell_type": "code",
   "execution_count": 1,
   "metadata": {
    "colab": {
     "base_uri": "https://localhost:8080/"
    },
    "executionInfo": {
     "elapsed": 40793,
     "status": "ok",
     "timestamp": 1702527952176,
     "user": {
      "displayName": "Geoff P",
      "userId": "17904923389236585067"
     },
     "user_tz": -480
    },
    "id": "a_KW73O2e3dw",
    "outputId": "ef2c9e69-74f1-4001-f042-ad95d330ee97"
   },
   "outputs": [
    {
     "name": "stdout",
     "output_type": "stream",
     "text": [
      "Get:1 https://developer.download.nvidia.com/compute/cuda/repos/ubuntu2204/x86_64  InRelease [1,581 B]\n",
      "Get:2 http://security.ubuntu.com/ubuntu jammy-security InRelease [110 kB]                           \n",
      "Hit:3 http://archive.ubuntu.com/ubuntu jammy InRelease                                              \n",
      "Get:4 https://cloud.r-project.org/bin/linux/ubuntu jammy-cran40/ InRelease [3,626 B]\n",
      "Get:5 http://archive.ubuntu.com/ubuntu jammy-updates InRelease [119 kB]\n",
      "Get:6 https://developer.download.nvidia.com/compute/cuda/repos/ubuntu2204/x86_64  Packages [634 kB]\n",
      "Get:7 http://archive.ubuntu.com/ubuntu jammy-backports InRelease [109 kB]\n",
      "Hit:8 https://ppa.launchpadcontent.net/c2d4u.team/c2d4u4.0+/ubuntu jammy InRelease\n",
      "Get:9 http://security.ubuntu.com/ubuntu jammy-security/universe amd64 Packages [1,036 kB]\n",
      "Get:10 http://archive.ubuntu.com/ubuntu jammy-updates/restricted amd64 Packages [1,602 kB]\n",
      "Hit:11 https://ppa.launchpadcontent.net/deadsnakes/ppa/ubuntu jammy InRelease\n",
      "Hit:12 https://ppa.launchpadcontent.net/graphics-drivers/ppa/ubuntu jammy InRelease\n",
      "Get:13 http://security.ubuntu.com/ubuntu jammy-security/main amd64 Packages [1,325 kB]\n",
      "Hit:14 https://ppa.launchpadcontent.net/ubuntugis/ppa/ubuntu jammy InRelease\n",
      "Get:15 http://security.ubuntu.com/ubuntu jammy-security/restricted amd64 Packages [1,572 kB]\n",
      "Get:16 http://archive.ubuntu.com/ubuntu jammy-updates/main amd64 Packages [1,598 kB]\n",
      "Get:17 http://archive.ubuntu.com/ubuntu jammy-updates/universe amd64 Packages [1,304 kB]\n",
      "Get:18 http://archive.ubuntu.com/ubuntu jammy-backports/main amd64 Packages [50.4 kB]\n",
      "Get:19 http://archive.ubuntu.com/ubuntu jammy-backports/universe amd64 Packages [28.1 kB]\n",
      "Fetched 9,493 kB in 2s (5,197 kB/s)\n",
      "Reading package lists... Done\n"
     ]
    }
   ],
   "source": [
    "import os\n",
    "# Find the latest version of spark 3.x  from http://www.apache.org/dist/spark/ and enter as the spark version\n",
    "# For example:\n",
    "# spark_version = 'spark-3.4.0'\n",
    "spark_version = 'spark-3.5.0'\n",
    "os.environ['SPARK_VERSION']=spark_version\n",
    "\n",
    "# Install Spark and Java\n",
    "!apt-get update\n",
    "!apt-get install openjdk-11-jdk-headless -qq > /dev/null\n",
    "!wget -q http://www.apache.org/dist/spark/$SPARK_VERSION/$SPARK_VERSION-bin-hadoop3.tgz\n",
    "!tar xf $SPARK_VERSION-bin-hadoop3.tgz\n",
    "!pip install -q findspark\n",
    "\n",
    "# Set Environment Variables\n",
    "os.environ[\"JAVA_HOME\"] = \"/usr/lib/jvm/java-11-openjdk-amd64\"\n",
    "os.environ[\"SPARK_HOME\"] = f\"/content/{spark_version}-bin-hadoop3\"\n",
    "\n",
    "# Start a SparkSession\n",
    "import findspark\n",
    "findspark.init()"
   ]
  },
  {
   "cell_type": "code",
   "execution_count": 2,
   "metadata": {
    "executionInfo": {
     "elapsed": 7453,
     "status": "ok",
     "timestamp": 1702528002147,
     "user": {
      "displayName": "Geoff P",
      "userId": "17904923389236585067"
     },
     "user_tz": -480
    },
    "id": "2XbWNf1Te5fM"
   },
   "outputs": [],
   "source": [
    "# Import packages\n",
    "from pyspark.sql import SparkSession\n",
    "import time\n",
    "\n",
    "# Create a SparkSession\n",
    "spark = SparkSession.builder.appName(\"SparkSQL\").getOrCreate()"
   ]
  },
  {
   "cell_type": "code",
   "execution_count": 3,
   "metadata": {
    "colab": {
     "base_uri": "https://localhost:8080/"
    },
    "executionInfo": {
     "elapsed": 14163,
     "status": "ok",
     "timestamp": 1702528034072,
     "user": {
      "displayName": "Geoff P",
      "userId": "17904923389236585067"
     },
     "user_tz": -480
    },
    "id": "wOJqxG_RPSwp",
    "outputId": "0f5b9d89-0029-463e-cd1d-9e226745a9e9"
   },
   "outputs": [
    {
     "name": "stdout",
     "output_type": "stream",
     "text": [
      "+--------------------+----------+----------+------+--------+---------+-----------+--------+------+----------+----+\n",
      "|                  id|      date|date_built| price|bedrooms|bathrooms|sqft_living|sqft_lot|floors|waterfront|view|\n",
      "+--------------------+----------+----------+------+--------+---------+-----------+--------+------+----------+----+\n",
      "|f8a53099-ba1c-47d...|2022-04-08|      2016|936923|       4|        3|       3167|   11733|     2|         1|  76|\n",
      "|7530a2d8-1ae3-451...|2021-06-13|      2013|379628|       2|        2|       2235|   14384|     1|         0|  23|\n",
      "|43de979c-0bf0-4c9...|2019-04-12|      2014|417866|       2|        2|       2127|   10575|     2|         0|   0|\n",
      "|b672c137-b88c-48b...|2019-10-16|      2016|239895|       2|        2|       1631|   11149|     2|         0|   0|\n",
      "|e0726d4d-d595-407...|2022-01-08|      2017|424418|       3|        2|       2249|   13878|     2|         0|   4|\n",
      "|5aa00529-0533-46b...|2019-01-30|      2017|218712|       2|        3|       1965|   14375|     2|         0|   7|\n",
      "|131492a1-72e2-4a8...|2020-02-08|      2017|419199|       2|        3|       2062|    8876|     2|         0|   6|\n",
      "|8d54a71b-c520-44e...|2019-07-21|      2010|323956|       2|        3|       1506|   11816|     1|         0|  25|\n",
      "|e81aacfe-17fe-46b...|2020-06-16|      2016|181925|       3|        3|       2137|   11709|     2|         0|  22|\n",
      "|2ed8d509-7372-46d...|2021-08-06|      2015|258710|       3|        3|       1918|    9666|     1|         0|  25|\n",
      "|f876d86f-3c9f-42b...|2019-02-27|      2011|167864|       3|        3|       2471|   13924|     2|         0|  15|\n",
      "|0a2bd445-8508-4d8...|2021-12-30|      2014|337527|       2|        3|       1926|   12556|     1|         0|  23|\n",
      "|941bad30-eb49-4a7...|2020-05-09|      2015|229896|       3|        3|       2197|    8641|     1|         0|   3|\n",
      "|dd61eb34-6589-4c0...|2021-07-25|      2016|210247|       3|        2|       1672|   11986|     2|         0|  28|\n",
      "|f1e4cef7-d151-439...|2019-02-01|      2011|398667|       2|        3|       2331|   11356|     1|         0|   7|\n",
      "|ea620c7b-c2f7-4c6...|2021-05-31|      2011|437958|       3|        3|       2356|   11052|     1|         0|  26|\n",
      "|f233cb41-6f33-4b0...|2021-07-18|      2016|437375|       4|        3|       1704|   11721|     2|         0|  34|\n",
      "|c797ca12-52cd-4b1...|2019-06-08|      2015|288650|       2|        3|       2100|   10419|     2|         0|   7|\n",
      "|0cfe57f3-28c2-472...|2019-10-04|      2015|308313|       3|        3|       1960|    9453|     2|         0|   2|\n",
      "|4566cd2a-ac6e-435...|2019-07-15|      2016|177541|       3|        3|       2130|   10517|     2|         0|  25|\n",
      "+--------------------+----------+----------+------+--------+---------+-----------+--------+------+----------+----+\n",
      "only showing top 20 rows\n",
      "\n"
     ]
    }
   ],
   "source": [
    "# 1. Read in the AWS S3 bucket into a DataFrame.\n",
    "from pyspark import SparkFiles\n",
    "url = \"https://2u-data-curriculum-team.s3.amazonaws.com/dataviz-classroom/v1.2/22-big-data/home_sales_revised.csv\"\n",
    "spark.sparkContext.addFile(url)\n",
    "df = spark.read.csv(SparkFiles.get(\"home_sales_revised.csv\"), header=True, inferSchema=True)\n",
    "\n",
    "# Show DataFrame\n",
    "df.show()"
   ]
  },
  {
   "cell_type": "code",
   "execution_count": 4,
   "metadata": {
    "executionInfo": {
     "elapsed": 382,
     "status": "ok",
     "timestamp": 1702528067388,
     "user": {
      "displayName": "Geoff P",
      "userId": "17904923389236585067"
     },
     "user_tz": -480
    },
    "id": "RoljcJ7WPpnm"
   },
   "outputs": [],
   "source": [
    "# 2. Create a temporary view of the DataFrame.\n",
    "df.createOrReplaceTempView('home_sales')\n"
   ]
  },
  {
   "cell_type": "code",
   "execution_count": 5,
   "metadata": {
    "colab": {
     "base_uri": "https://localhost:8080/"
    },
    "executionInfo": {
     "elapsed": 2836,
     "status": "ok",
     "timestamp": 1702528349143,
     "user": {
      "displayName": "Geoff P",
      "userId": "17904923389236585067"
     },
     "user_tz": -480
    },
    "id": "L6fkwOeOmqvq",
    "outputId": "49a4e2ef-d573-40f7-8140-e74c3639aeb4"
   },
   "outputs": [
    {
     "name": "stdout",
     "output_type": "stream",
     "text": [
      "+----+---------+\n",
      "|year|avg_price|\n",
      "+----+---------+\n",
      "|2010|296800.75|\n",
      "|2011| 302141.9|\n",
      "|2012|298233.42|\n",
      "|2013|299999.39|\n",
      "|2014|299073.89|\n",
      "|2015|307908.86|\n",
      "|2016|296050.24|\n",
      "|2017|296576.69|\n",
      "+----+---------+\n",
      "\n"
     ]
    }
   ],
   "source": [
    "# 3. What is the average price for a four bedroom house sold in each year rounded to two decimal places?\n",
    "result = spark.sql(\n",
    "    '''\n",
    "    SELECT date_built AS year, ROUND(AVG(price), 2) AS avg_price\n",
    "    FROM home_sales\n",
    "    WHERE bedrooms = 4\n",
    "    GROUP BY date_built\n",
    "    ORDER BY date_built\n",
    "    '''\n",
    ")\n",
    "\n",
    "# Show the result\n",
    "result.show()\n"
   ]
  },
  {
   "cell_type": "code",
   "execution_count": 6,
   "metadata": {
    "colab": {
     "base_uri": "https://localhost:8080/"
    },
    "executionInfo": {
     "elapsed": 1040,
     "status": "ok",
     "timestamp": 1702528409243,
     "user": {
      "displayName": "Geoff P",
      "userId": "17904923389236585067"
     },
     "user_tz": -480
    },
    "id": "l8p_tUS8h8it",
    "outputId": "e5bd09fc-e0dc-4c40-fec4-5552b35f0bf1"
   },
   "outputs": [
    {
     "name": "stdout",
     "output_type": "stream",
     "text": [
      "+----+---------+\n",
      "|year|avg_price|\n",
      "+----+---------+\n",
      "|2010|292859.62|\n",
      "|2011|291117.47|\n",
      "|2012|293683.19|\n",
      "|2013|295962.27|\n",
      "|2014|290852.27|\n",
      "|2015| 288770.3|\n",
      "|2016|290555.07|\n",
      "|2017|292676.79|\n",
      "+----+---------+\n",
      "\n"
     ]
    }
   ],
   "source": [
    "# 4. What is the average price of a home for each year the home was built that have 3 bedrooms and 3 bathrooms rounded to two decimal places?\n",
    "result = spark.sql(\n",
    "    '''\n",
    "    SELECT date_built AS year, ROUND(AVG(price), 2) AS avg_price\n",
    "    FROM home_sales\n",
    "    WHERE bedrooms = 3 AND bathrooms = 3\n",
    "    GROUP BY date_built\n",
    "    ORDER BY date_built\n",
    "    '''\n",
    ")\n",
    "\n",
    "# Show the result\n",
    "result.show()\n"
   ]
  },
  {
   "cell_type": "code",
   "execution_count": 7,
   "metadata": {
    "colab": {
     "base_uri": "https://localhost:8080/"
    },
    "executionInfo": {
     "elapsed": 1381,
     "status": "ok",
     "timestamp": 1702528532295,
     "user": {
      "displayName": "Geoff P",
      "userId": "17904923389236585067"
     },
     "user_tz": -480
    },
    "id": "Y-Eytz64liDU",
    "outputId": "6b258359-8c91-4f86-e1eb-e15fdb7a3436"
   },
   "outputs": [
    {
     "name": "stdout",
     "output_type": "stream",
     "text": [
      "+----+---------+\n",
      "|year|avg_price|\n",
      "+----+---------+\n",
      "|2010|285010.22|\n",
      "|2011|276553.81|\n",
      "|2012|307539.97|\n",
      "|2013|303676.79|\n",
      "|2014|298264.72|\n",
      "|2015|297609.97|\n",
      "|2016| 293965.1|\n",
      "|2017|280317.58|\n",
      "+----+---------+\n",
      "\n"
     ]
    }
   ],
   "source": [
    "# 5. What is the average price of a home for each year built that have 3 bedrooms, 3 bathrooms, with two floors,\n",
    "# and are greater than or equal to 2,000 square feet rounded to two decimal places?\n",
    "result = spark.sql(\n",
    "    '''\n",
    "    SELECT date_built AS year, ROUND(AVG(price), 2) AS avg_price\n",
    "    FROM home_sales\n",
    "    WHERE bedrooms = 3 AND bathrooms = 3 AND floors = 2 AND sqft_living >= 2000\n",
    "    GROUP BY date_built\n",
    "    ORDER BY date_built\n",
    "    '''\n",
    ")\n",
    "\n",
    "# Show the result\n",
    "result.show()\n"
   ]
  },
  {
   "cell_type": "code",
   "execution_count": 8,
   "metadata": {
    "colab": {
     "base_uri": "https://localhost:8080/"
    },
    "executionInfo": {
     "elapsed": 1017,
     "status": "ok",
     "timestamp": 1702528667138,
     "user": {
      "displayName": "Geoff P",
      "userId": "17904923389236585067"
     },
     "user_tz": -480
    },
    "id": "GUrfgOX1pCRd",
    "outputId": "049c2c5f-7af9-4bc3-e5b4-31af2dc72f84"
   },
   "outputs": [
    {
     "name": "stdout",
     "output_type": "stream",
     "text": [
      "+--------+\n",
      "|avg_view|\n",
      "+--------+\n",
      "|   32.26|\n",
      "+--------+\n",
      "\n",
      "--- 0.7197608947753906 seconds ---\n"
     ]
    }
   ],
   "source": [
    "# 6. What is the \"view\" rating for the average price of a home, rounded to two decimal places, where the homes are greater than\n",
    "# or equal to $350,000? Although this is a small dataset, determine the run time for this query.\n",
    "\n",
    "start_time = time.time()\n",
    "\n",
    "# SQL query to calculate the average \"view\" rating for homes with a price greater than or equal to $350,000\n",
    "result = spark.sql(\n",
    "    '''\n",
    "    SELECT ROUND(AVG(view), 2) AS avg_view\n",
    "    FROM home_sales\n",
    "    WHERE price >= 350000\n",
    "    '''\n",
    ")\n",
    "\n",
    "# Show the result\n",
    "result.show()\n",
    "\n",
    "# End timing and display runtime\n",
    "end_time = time.time()\n",
    "\n",
    "print(\"--- %s seconds ---\" % (time.time() - start_time))"
   ]
  },
  {
   "cell_type": "code",
   "execution_count": 10,
   "metadata": {
    "colab": {
     "base_uri": "https://localhost:8080/"
    },
    "executionInfo": {
     "elapsed": 439,
     "status": "ok",
     "timestamp": 1702528731635,
     "user": {
      "displayName": "Geoff P",
      "userId": "17904923389236585067"
     },
     "user_tz": -480
    },
    "id": "KAhk3ZD2tFy8",
    "outputId": "c5bba8f2-ef86-4c58-f05e-b405cb172fa3"
   },
   "outputs": [
    {
     "data": {
      "text/plain": [
       "DataFrame[]"
      ]
     },
     "execution_count": 10,
     "metadata": {},
     "output_type": "execute_result"
    }
   ],
   "source": [
    "# 7. Cache the the temporary table home_sales.\n",
    "spark.sql(\"CACHE TABLE home_sales\")\n",
    "\n",
    "# Alternatively, you can also use the DataFrame API to cache the DataFrame directly\n",
    "# df.cache()\n"
   ]
  },
  {
   "cell_type": "code",
   "execution_count": 11,
   "metadata": {
    "colab": {
     "base_uri": "https://localhost:8080/"
    },
    "executionInfo": {
     "elapsed": 425,
     "status": "ok",
     "timestamp": 1702528734515,
     "user": {
      "displayName": "Geoff P",
      "userId": "17904923389236585067"
     },
     "user_tz": -480
    },
    "id": "4opVhbvxtL-i",
    "outputId": "89b919fd-58e4-4098-9315-3f35378730ef"
   },
   "outputs": [
    {
     "data": {
      "text/plain": [
       "True"
      ]
     },
     "execution_count": 11,
     "metadata": {},
     "output_type": "execute_result"
    }
   ],
   "source": [
    "# 8. Check if the table is cached.\n",
    "spark.catalog.isCached('home_sales')"
   ]
  },
  {
   "cell_type": "code",
   "execution_count": 14,
   "metadata": {
    "colab": {
     "base_uri": "https://localhost:8080/"
    },
    "executionInfo": {
     "elapsed": 1014,
     "status": "ok",
     "timestamp": 1702528938022,
     "user": {
      "displayName": "Geoff P",
      "userId": "17904923389236585067"
     },
     "user_tz": -480
    },
    "id": "5GnL46lwTSEk",
    "outputId": "c0fb93f2-34a6-41a3-e9ff-93e5262e15c9"
   },
   "outputs": [
    {
     "name": "stdout",
     "output_type": "stream",
     "text": [
      "+--------+\n",
      "|avg_view|\n",
      "+--------+\n",
      "|   32.26|\n",
      "+--------+\n",
      "\n",
      "--- Uncached Runtime: 0.2884678840637207 seconds ---\n",
      "+--------+\n",
      "|avg_view|\n",
      "+--------+\n",
      "|   32.26|\n",
      "+--------+\n",
      "\n",
      "--- 0.5190010070800781 seconds ---\n"
     ]
    }
   ],
   "source": [
    "# 9. Using the cached data, run the query that filters out the view ratings with average price\n",
    "#  greater than or equal to $350,000. Determine the runtime and compare it to uncached runtime.\n",
    "\n",
    "start_time = time.time()\n",
    "\n",
    "# Uncached query: Calculate the average \"view\" rating for homes with a price >= $350,000\n",
    "result_uncached = spark.sql(\n",
    "    '''\n",
    "    SELECT ROUND(AVG(view), 2) AS avg_view\n",
    "    FROM home_sales\n",
    "    WHERE price >= 350000\n",
    "    '''\n",
    ")\n",
    "\n",
    "# Show the uncached result\n",
    "result_uncached.show()\n",
    "\n",
    "# End timing for uncached query\n",
    "end_time_uncached = time.time()\n",
    "print(\"--- Uncached Runtime: %s seconds ---\" % (end_time_uncached - start_time))\n",
    "\n",
    "# Cache the temporary table 'home_sales' if it's not cached already\n",
    "if not spark.catalog.isCached(\"home_sales\"):\n",
    "    spark.sql(\"CACHE TABLE home_sales\")\n",
    "\n",
    "\n",
    "# Cached query: Calculate the average \"view\" rating for homes with a price >= $350,000\n",
    "result_cached = spark.sql(\n",
    "    '''\n",
    "    SELECT ROUND(AVG(view), 2) AS avg_view\n",
    "    FROM home_sales\n",
    "    WHERE price >= 350000\n",
    "    '''\n",
    ")\n",
    "\n",
    "# Show the cached result\n",
    "result_cached.show()\n",
    "\n",
    "# End timing for cached query\n",
    "end_time_cached = time.time()\n",
    "\n",
    "print(\"--- %s seconds ---\" % (time.time() - start_time))\n"
   ]
  },
  {
   "cell_type": "code",
   "execution_count": 17,
   "metadata": {
    "colab": {
     "base_uri": "https://localhost:8080/"
    },
    "executionInfo": {
     "elapsed": 24797,
     "status": "ok",
     "timestamp": 1702529122060,
     "user": {
      "displayName": "Geoff P",
      "userId": "17904923389236585067"
     },
     "user_tz": -480
    },
    "id": "3ajDqP6FpBHZ",
    "outputId": "938dc397-08f5-466b-cc53-97251fbee6e5"
   },
   "outputs": [
    {
     "name": "stdout",
     "output_type": "stream",
     "text": [
      "Mounted at /content/drive\n"
     ]
    }
   ],
   "source": [
    "from google.colab import drive\n",
    "drive.mount('/content/drive')"
   ]
  },
  {
   "cell_type": "code",
   "execution_count": 18,
   "metadata": {
    "executionInfo": {
     "elapsed": 1584,
     "status": "ok",
     "timestamp": 1702529161075,
     "user": {
      "displayName": "Geoff P",
      "userId": "17904923389236585067"
     },
     "user_tz": -480
    },
    "id": "Qm12WN9isHBR"
   },
   "outputs": [],
   "source": [
    "# 10. Partition by the \"date_built\" field on the formatted parquet home sales data\n",
    "# Write the DataFrame partitioned by 'date_built' to Parquet format\n",
    "df.write.partitionBy('date_built').parquet('/content/drive/MyDrive/Colab Notebooks/Challenge22_Home_Sales/path_to_write_parquet')"
   ]
  },
  {
   "cell_type": "code",
   "execution_count": 20,
   "metadata": {
    "colab": {
     "base_uri": "https://localhost:8080/"
    },
    "executionInfo": {
     "elapsed": 1394,
     "status": "ok",
     "timestamp": 1702529243522,
     "user": {
      "displayName": "Geoff P",
      "userId": "17904923389236585067"
     },
     "user_tz": -480
    },
    "id": "AZ7BgY61sRqY",
    "outputId": "7b074e0c-1f85-419c-83e0-119528747737"
   },
   "outputs": [
    {
     "name": "stdout",
     "output_type": "stream",
     "text": [
      "+--------------------+----------+------+--------+---------+-----------+--------+------+----------+----+----------+\n",
      "|                  id|      date| price|bedrooms|bathrooms|sqft_living|sqft_lot|floors|waterfront|view|date_built|\n",
      "+--------------------+----------+------+--------+---------+-----------+--------+------+----------+----+----------+\n",
      "|2ed8d509-7372-46d...|2021-08-06|258710|       3|        3|       1918|    9666|     1|         0|  25|      2015|\n",
      "|941bad30-eb49-4a7...|2020-05-09|229896|       3|        3|       2197|    8641|     1|         0|   3|      2015|\n",
      "|c797ca12-52cd-4b1...|2019-06-08|288650|       2|        3|       2100|   10419|     2|         0|   7|      2015|\n",
      "|0cfe57f3-28c2-472...|2019-10-04|308313|       3|        3|       1960|    9453|     2|         0|   2|      2015|\n",
      "|d715f295-2fbf-4e9...|2021-05-17|391574|       3|        2|       1635|    8040|     2|         0|  10|      2015|\n",
      "|a18515a2-86f3-46b...|2022-02-18|419543|       3|        2|       1642|   12826|     2|         0|  24|      2015|\n",
      "|98f6a9ad-8870-474...|2022-05-07|136752|       2|        3|       1701|   10771|     2|         0|   5|      2015|\n",
      "|7ac67498-b6f3-403...|2021-05-12|349318|       4|        3|       2417|   11304|     2|         0|  37|      2015|\n",
      "|c9bfdb1c-2499-4e3...|2021-12-07|268874|       2|        2|       1537|   12177|     1|         0|  10|      2015|\n",
      "|34c31a34-220d-469...|2019-02-06|409011|       3|        3|       2356|   10507|     1|         0|   1|      2015|\n",
      "|be0ccb95-415d-411...|2020-05-15|425154|       4|        3|       2120|   14229|     2|         0|   4|      2015|\n",
      "|e9031a86-1294-444...|2021-10-09|222322|       4|        3|       1928|   10510|     1|         0|  38|      2015|\n",
      "|e6d7c2a7-596e-4ec...|2019-03-15|131201|       4|        3|       1633|   14655|     1|         0|  22|      2015|\n",
      "|6683714b-3df7-454...|2022-02-01|333403|       4|        2|       2059|    9793|     2|         0|   4|      2015|\n",
      "|00fc996f-508c-430...|2021-07-15|373139|       3|        3|       1763|   11363|     1|         0|  39|      2015|\n",
      "|3d5545f8-bd3b-476...|2020-09-19|797862|       4|        6|       3494|   10385|     2|         0|  90|      2015|\n",
      "|ec6d357c-2435-43e...|2019-05-28|401792|       3|        2|       1627|   10765|     1|         0|  50|      2015|\n",
      "|c2be38fb-814a-403...|2020-03-20|352237|       3|        3|       2485|   10954|     2|         0|   6|      2015|\n",
      "|9570de1f-5a74-45b...|2021-11-29|298453|       3|        2|       2222|   10634|     1|         0|   6|      2015|\n",
      "|1baeff4f-fc00-489...|2020-12-17|152775|       3|        2|       1623|   13851|     1|         0|  41|      2015|\n",
      "+--------------------+----------+------+--------+---------+-----------+--------+------+----------+----+----------+\n",
      "only showing top 20 rows\n",
      "\n"
     ]
    }
   ],
   "source": [
    "# 11. Read the parquet formatted data.\n",
    "# Read Parquet files partitioned by 'date_built' into a DataFrame\n",
    "parquet_df = spark.read.parquet('/content/drive/MyDrive/Colab Notebooks/Challenge22_Home_Sales/path_to_write_parquet')\n",
    "\n",
    "# Show the DataFrame\n",
    "parquet_df.show()\n"
   ]
  },
  {
   "cell_type": "code",
   "execution_count": 21,
   "metadata": {
    "executionInfo": {
     "elapsed": 595,
     "status": "ok",
     "timestamp": 1702529277907,
     "user": {
      "displayName": "Geoff P",
      "userId": "17904923389236585067"
     },
     "user_tz": -480
    },
    "id": "J6MJkHfvVcvh"
   },
   "outputs": [],
   "source": [
    "# 12. Create a temporary table for the parquet data.\n",
    "parquet_df = spark.read.parquet('/content/drive/MyDrive/Colab Notebooks/Challenge22_Home_Sales/path_to_write_parquet')\n",
    "\n",
    "# Create a temporary view or table for the Parquet data\n",
    "parquet_df.createOrReplaceTempView('parquet_home_sales')"
   ]
  },
  {
   "cell_type": "code",
   "execution_count": 23,
   "metadata": {
    "colab": {
     "base_uri": "https://localhost:8080/"
    },
    "executionInfo": {
     "elapsed": 4678,
     "status": "ok",
     "timestamp": 1702529351059,
     "user": {
      "displayName": "Geoff P",
      "userId": "17904923389236585067"
     },
     "user_tz": -480
    },
    "id": "G_Vhb52rU1Sn",
    "outputId": "3d57cab3-fe7a-4d2b-f531-d8c3e46ff281"
   },
   "outputs": [
    {
     "name": "stdout",
     "output_type": "stream",
     "text": [
      "+--------+\n",
      "|avg_view|\n",
      "+--------+\n",
      "|   32.26|\n",
      "+--------+\n",
      "\n",
      "--- Non-Cached Runtime: 0.8833849430084229 seconds ---\n",
      "+--------+\n",
      "|avg_view|\n",
      "+--------+\n",
      "|   32.26|\n",
      "+--------+\n",
      "\n",
      "--- 4.34734582901001 seconds ---\n"
     ]
    }
   ],
   "source": [
    "# 13. Run the query that filters out the view ratings with average price of greater than or equal to $350,000\n",
    "# with the parquet DataFrame. Round your average to two decimal places.\n",
    "# Determine the runtime and compare it to the cached version.\n",
    "\n",
    "start_time = time.time()\n",
    "\n",
    "# Non-cached query: Calculate the average \"view\" rating for homes with a price >= $350,000 from Parquet DataFrame\n",
    "result_uncached = spark.sql(\n",
    "    '''\n",
    "    SELECT ROUND(AVG(view), 2) AS avg_view\n",
    "    FROM parquet_home_sales\n",
    "    WHERE price >= 350000\n",
    "    '''\n",
    ")\n",
    "\n",
    "# Show the result for non-cached query\n",
    "result_uncached.show()\n",
    "\n",
    "# End timing for non-cached query\n",
    "end_time_uncached = time.time()\n",
    "print(\"--- Non-Cached Runtime: %s seconds ---\" % (end_time_uncached - start_time))\n",
    "\n",
    "# Cache the temporary table 'parquet_home_sales' if it's not cached already\n",
    "if not spark.catalog.isCached(\"parquet_home_sales\"):\n",
    "    parquet_df.createOrReplaceTempView('parquet_home_sales')\n",
    "    spark.sql(\"CACHE TABLE parquet_home_sales\")\n",
    "\n",
    "# Start timing for cached query\n",
    "start_time_cached = time.time()\n",
    "\n",
    "# Cached query: Calculate the average \"view\" rating for homes with a price >= $350,000 from Parquet DataFrame\n",
    "result_cached = spark.sql(\n",
    "    '''\n",
    "    SELECT ROUND(AVG(view), 2) AS avg_view\n",
    "    FROM parquet_home_sales\n",
    "    WHERE price >= 350000\n",
    "    '''\n",
    ")\n",
    "\n",
    "# Show the result for cached query\n",
    "result_cached.show()\n",
    "\n",
    "# End timing for cached query\n",
    "end_time_cached = time.time()\n",
    "\n",
    "print(\"--- %s seconds ---\" % (time.time() - start_time))"
   ]
  },
  {
   "cell_type": "code",
   "execution_count": 24,
   "metadata": {
    "colab": {
     "base_uri": "https://localhost:8080/"
    },
    "executionInfo": {
     "elapsed": 399,
     "status": "ok",
     "timestamp": 1702529378370,
     "user": {
      "displayName": "Geoff P",
      "userId": "17904923389236585067"
     },
     "user_tz": -480
    },
    "id": "hjjYzQGjtbq8",
    "outputId": "7b04dea6-d2d3-452a-f76c-654371cddbb1"
   },
   "outputs": [
    {
     "name": "stdout",
     "output_type": "stream",
     "text": [
      "'home_sales' table has been uncached.\n"
     ]
    }
   ],
   "source": [
    "# 14. Uncache the home_sales temporary table.\n",
    "if spark.catalog.isCached(\"home_sales\"):\n",
    "    # Uncache the 'home_sales' temporary table\n",
    "    spark.catalog.uncacheTable(\"home_sales\")\n",
    "    print(\"'home_sales' table has been uncached.\")\n",
    "else:\n",
    "    print(\"'home_sales' table is not cached.\")"
   ]
  },
  {
   "cell_type": "code",
   "execution_count": 25,
   "metadata": {
    "colab": {
     "base_uri": "https://localhost:8080/"
    },
    "executionInfo": {
     "elapsed": 392,
     "status": "ok",
     "timestamp": 1702529402791,
     "user": {
      "displayName": "Geoff P",
      "userId": "17904923389236585067"
     },
     "user_tz": -480
    },
    "id": "Sy9NBvO7tlmm",
    "outputId": "bd94f4de-66d2-4246-c880-1d8a97325fe3"
   },
   "outputs": [
    {
     "name": "stdout",
     "output_type": "stream",
     "text": [
      "'home_sales' table is not cached.\n"
     ]
    }
   ],
   "source": [
    "# 15. Check if the home_sales is no longer cached\n",
    "is_home_sales_cached = spark.catalog.isCached(\"home_sales\")\n",
    "\n",
    "# Display the status of caching for 'home_sales' table\n",
    "if is_home_sales_cached:\n",
    "    print(\"'home_sales' table is still cached.\")\n",
    "else:\n",
    "    print(\"'home_sales' table is not cached.\")\n"
   ]
  },
  {
   "cell_type": "code",
   "execution_count": null,
   "metadata": {
    "id": "Si-BNruRUGK3"
   },
   "outputs": [],
   "source": []
  }
 ],
 "metadata": {
  "colab": {
   "provenance": []
  },
  "gpuClass": "standard",
  "kernelspec": {
   "display_name": "Python 3 (ipykernel)",
   "language": "python",
   "name": "python3"
  },
  "language_info": {
   "codemirror_mode": {
    "name": "ipython",
    "version": 3
   },
   "file_extension": ".py",
   "mimetype": "text/x-python",
   "name": "python",
   "nbconvert_exporter": "python",
   "pygments_lexer": "ipython3",
   "version": "3.11.5"
  },
  "nteract": {
   "version": "0.28.0"
  }
 },
 "nbformat": 4,
 "nbformat_minor": 4
}
